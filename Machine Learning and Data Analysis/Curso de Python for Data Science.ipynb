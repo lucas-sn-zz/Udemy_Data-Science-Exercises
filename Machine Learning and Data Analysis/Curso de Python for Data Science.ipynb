{
 "cells": [
  {
   "cell_type": "code",
   "execution_count": 32,
   "metadata": {
    "scrolled": true
   },
   "outputs": [
    {
     "name": "stdout",
     "output_type": "stream",
     "text": [
      "a capital de brasil é Brasília\n",
      "a capital de USA é Washington\n",
      "a capital de Canada é Toronto\n",
      "a capital de Itália é ROMA\n"
     ]
    }
   ],
   "source": [
    "#Aula 9 \n",
    "países = ('brasil','USA','Canada','Itália')\n",
    "capitais = ('Brasília', 'Washington','Toronto','ROMA')\n",
    "\n",
    "for x in range(len(capitais)):\n",
    "    print(\"a capital de {} é {}\".format(países[x],capitais[x]))\n",
    "    \n",
    "    "
   ]
  },
  {
   "cell_type": "code",
   "execution_count": 33,
   "metadata": {},
   "outputs": [
    {
     "data": {
      "text/plain": [
       "{0, 1, 4, 5, 34}"
      ]
     },
     "execution_count": 33,
     "metadata": {},
     "output_type": "execute_result"
    }
   ],
   "source": [
    "#função Set, seleciona apenas uma vez os itens dentro de uma variável\n",
    "x = (1,1,1,1,1,0,0,0,34,4,5,5,5,5)\n",
    "set(x)"
   ]
  },
  {
   "cell_type": "code",
   "execution_count": 43,
   "metadata": {},
   "outputs": [
    {
     "data": {
      "text/plain": [
       "[1, 4, 9, 4225, 8649]"
      ]
     },
     "execution_count": 43,
     "metadata": {},
     "output_type": "execute_result"
    }
   ],
   "source": [
    "#Aula 12\n",
    "'''Uso da Função \"lambda'''\n",
    "t = lambda var : var**2\n",
    "\n",
    "# uso da função map\n",
    "x = (1,2,3,65,93)\n",
    "list(map(t,x))"
   ]
  },
  {
   "cell_type": "code",
   "execution_count": 46,
   "metadata": {
    "scrolled": true
   },
   "outputs": [
    {
     "data": {
      "text/plain": [
       "[256]"
      ]
     },
     "execution_count": 46,
     "metadata": {},
     "output_type": "execute_result"
    }
   ],
   "source": [
    "#Aula 12 função filter\n",
    "#Filtra as informações para um dado argumento\n",
    "x = list(map(t,x))\n",
    "list(filter(lambda num: num%2 ==0, x))"
   ]
  },
  {
   "cell_type": "code",
   "execution_count": null,
   "metadata": {},
   "outputs": [],
   "source": []
  },
  {
   "cell_type": "code",
   "execution_count": null,
   "metadata": {},
   "outputs": [],
   "source": []
  }
 ],
 "metadata": {
  "kernelspec": {
   "display_name": "Python 3",
   "language": "python",
   "name": "python3"
  },
  "language_info": {
   "codemirror_mode": {
    "name": "ipython",
    "version": 3
   },
   "file_extension": ".py",
   "mimetype": "text/x-python",
   "name": "python",
   "nbconvert_exporter": "python",
   "pygments_lexer": "ipython3",
   "version": "3.6.4"
  }
 },
 "nbformat": 4,
 "nbformat_minor": 2
}
